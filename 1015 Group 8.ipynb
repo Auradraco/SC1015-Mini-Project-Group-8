{
 "cells": [
  {
   "cell_type": "code",
   "execution_count": 2,
   "id": "2f274eae",
   "metadata": {},
   "outputs": [
    {
     "name": "stdout",
     "output_type": "stream",
     "text": [
      "Testing\n"
     ]
    }
   ],
   "source": [
    "print(\"Testing\")"
   ]
  },
  {
   "cell_type": "code",
   "execution_count": 3,
   "id": "41f54163",
   "metadata": {},
   "outputs": [
    {
     "name": "stdout",
     "output_type": "stream",
     "text": [
      "Magic is key\n"
     ]
    }
   ],
   "source": [
    "print(\"Magic is key\")"
   ]
  },
  {
   "cell_type": "code",
   "execution_count": 4,
   "id": "aed2047e",
   "metadata": {},
   "outputs": [
    {
     "name": "stdout",
     "output_type": "stream",
     "text": [
      "Life essence\n"
     ]
    }
   ],
   "source": [
    "print(\"Life essence\")"
   ]
  },
  {
   "cell_type": "code",
   "execution_count": 5,
   "id": "d85cc56f",
   "metadata": {},
   "outputs": [
    {
     "name": "stdout",
     "output_type": "stream",
     "text": [
      "New Beginning\n"
     ]
    }
   ],
   "source": [
    "print(\"New Beginning\")"
   ]
  },
  {
   "cell_type": "code",
   "execution_count": 6,
   "id": "cc9487b8",
   "metadata": {},
   "outputs": [
    {
     "name": "stdout",
     "output_type": "stream",
     "text": [
      "Enchantix\n"
     ]
    }
   ],
   "source": [
    "print(\"Enchantix\")"
   ]
  },
  {
   "cell_type": "code",
   "execution_count": null,
   "id": "38abafbe",
   "metadata": {},
   "outputs": [],
   "source": []
  }
 ],
 "metadata": {
  "kernelspec": {
   "display_name": "Python 3.11.2 64-bit",
   "language": "python",
   "name": "python3"
  },
  "language_info": {
   "codemirror_mode": {
    "name": "ipython",
    "version": 3
   },
   "file_extension": ".py",
   "mimetype": "text/x-python",
   "name": "python",
   "nbconvert_exporter": "python",
   "pygments_lexer": "ipython3",
   "version": "3.11.2"
  },
  "vscode": {
   "interpreter": {
    "hash": "eac076d78263d8c818188b161114052c039f07d968173f558ad59d48d795364e"
   }
  }
 },
 "nbformat": 4,
 "nbformat_minor": 5
}
