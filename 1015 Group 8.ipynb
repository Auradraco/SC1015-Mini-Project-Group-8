{
 "cells": [
  {
   "cell_type": "code",
   "execution_count": 1,
   "id": "2f274eae",
   "metadata": {},
   "outputs": [
    {
     "name": "stdout",
     "output_type": "stream",
     "text": [
      "Testing\n"
     ]
    }
   ],
   "source": [
    "print(\"Testing\")"
   ]
  },
  {
   "cell_type": "code",
   "execution_count": 1,
   "id": "41f54163",
   "metadata": {},
   "outputs": [
    {
     "name": "stdout",
     "output_type": "stream",
     "text": [
      "Magic is key\n"
     ]
    }
   ],
   "source": [
    "print(\"Magic is key\")"
   ]
  },
  {
   "cell_type": "code",
   "execution_count": null,
   "id": "c0da0c46",
   "metadata": {},
   "outputs": [],
   "source": []
  }
 ],
 "metadata": {
  "kernelspec": {
   "display_name": "Python 3.11.2 64-bit",
   "language": "python",
   "name": "python3"
  },
  "language_info": {
   "codemirror_mode": {
    "name": "ipython",
    "version": 3
   },
   "file_extension": ".py",
   "mimetype": "text/x-python",
   "name": "python",
   "nbconvert_exporter": "python",
   "pygments_lexer": "ipython3",
   "version": "3.11.2"
  },
  "vscode": {
   "interpreter": {
    "hash": "eac076d78263d8c818188b161114052c039f07d968173f558ad59d48d795364e"
   }
  }
 },
 "nbformat": 4,
 "nbformat_minor": 5
}
